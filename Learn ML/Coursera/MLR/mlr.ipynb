{
 "cells": [
  {
   "cell_type": "code",
   "execution_count": 1,
   "id": "07c55814-aaf5-45b8-ab75-10186a69ffa5",
   "metadata": {},
   "outputs": [],
   "source": [
    "import pandas as pd\n",
    "import numpy as np\n",
    "import matplotlib.pyplot as plt"
   ]
  },
  {
   "cell_type": "code",
   "execution_count": 2,
   "id": "5b78ef0c-4761-483b-b5c9-d198e34bbbf3",
   "metadata": {},
   "outputs": [],
   "source": [
    "df = pd.read_csv('50_startups.csv')\n",
    "X = df.iloc[:, :-1].values\n",
    "y = df.iloc[:, -1].values"
   ]
  },
  {
   "cell_type": "code",
   "execution_count": 3,
   "id": "59207725-893c-4f8b-86ea-b9bc4c9ae090",
   "metadata": {},
   "outputs": [],
   "source": [
    "from sklearn.preprocessing import OneHotEncoder\n",
    "from sklearn.compose import ColumnTransformer\n",
    "ct = ColumnTransformer(transformers = [('encoder', OneHotEncoder(), [3])], remainder = 'passthrough')\n",
    "X = np.array(ct.fit_transform(X))"
   ]
  },
  {
   "cell_type": "code",
   "execution_count": 19,
   "id": "6d4d6487-e61a-4061-ab91-5933107c408f",
   "metadata": {},
   "outputs": [],
   "source": [
    "from sklearn.model_selection import train_test_split\n",
    "import random\n",
    "\n",
    "seed = random.randint(1, 1000)\n",
    "X_train, X_test, y_train, y_test = train_test_split(X, y, test_size = 0.2, random_state = 708)\n",
    "# seed = 708 gives the best result\n",
    "from sklearn.preprocessing import StandardScaler\n",
    "sc = StandardScaler()\n",
    "X_train[:, 3:] = sc.fit_transform(X_train[:, 3:])\n",
    "X_test[:, 3:] = sc.transform(X_test[:, 3:])"
   ]
  },
  {
   "cell_type": "code",
   "execution_count": 5,
   "id": "49505df8-2a9a-43aa-bdcf-7a8cc013f8bb",
   "metadata": {},
   "outputs": [],
   "source": [
    "def comp_cost(x, y, w, b):\n",
    "    m, n = x.shape\n",
    "    cost = 0.0\n",
    "    for i in range(m):\n",
    "        err = (np.dot(w, x[i]) + b) - y[i]\n",
    "        cost = cost + err ** 2\n",
    "    cost /= 2*m\n",
    "    return cost"
   ]
  },
  {
   "cell_type": "code",
   "execution_count": 6,
   "id": "7027fee8-ef39-4a81-93c0-95f5655dacf7",
   "metadata": {},
   "outputs": [],
   "source": [
    "def compute_gradient(x, y, w, b):\n",
    "    m, n = x.shape\n",
    "    dj_dw = np.zeros((n,))\n",
    "    dj_db = 0.0\n",
    "    for i in range(m):\n",
    "        err = (np.dot(x[i], w) + b) - y[i]\n",
    "        # print(err)\n",
    "        for j in range(n):\n",
    "            dj_dw[j] = dj_dw[j] + err * x[i, j]\n",
    "        dj_db = dj_db + err\n",
    "    dj_dw /= m\n",
    "    dj_db /= m\n",
    "    return dj_dw, dj_db"
   ]
  },
  {
   "cell_type": "code",
   "execution_count": 7,
   "id": "765a020f-81fc-4409-999f-d37adcfe2fba",
   "metadata": {},
   "outputs": [],
   "source": [
    "def gradient_descent(niter, lr, x, y, w_ini, b_ini):\n",
    "    w = w_ini  #avoid modifying global w within function\n",
    "    b = b_ini\n",
    "    m, n = x.shape\n",
    "    for i in range(niter):\n",
    "        dj_dw, dj_db = compute_gradient(x, y, w, b)\n",
    "        # print(w, b)\n",
    "        w = w - lr*dj_dw\n",
    "        b = b - lr*dj_db\n",
    "    return w, b"
   ]
  },
  {
   "cell_type": "code",
   "execution_count": 8,
   "id": "fdff171c-a7bb-4005-889e-18862b027237",
   "metadata": {},
   "outputs": [
    {
     "name": "stdout",
     "output_type": "stream",
     "text": [
      "[30064.36104296 27863.84785658 27581.77095006 35618.48956977\n",
      "  -719.62687243  4156.4097714 ] 85509.97984960195 26325174.36124923\n"
     ]
    }
   ],
   "source": [
    "m, n = X.shape # 50, 3\n",
    "w_in = np.zeros((n, ))\n",
    "b_in = 0.0\n",
    "niter = 30000\n",
    "lr = 0.0005\n",
    "wf, bf = gradient_descent(niter, lr, X_train, y_train, w_in, b_in)\n",
    "print(wf, bf, comp_cost(X_train, y_train, wf, bf))"
   ]
  },
  {
   "cell_type": "code",
   "execution_count": 21,
   "id": "84bb969a-00e6-46df-bcef-9e0315562561",
   "metadata": {},
   "outputs": [
    {
     "name": "stdout",
     "output_type": "stream",
     "text": [
      "0.9749228596012881\n"
     ]
    }
   ],
   "source": [
    "y_pred = np.zeros_like(y_test)\n",
    "test_size = len(y_test)\n",
    "for i in range(test_size):\n",
    "    y_pred[i] = np.dot(wf, X_test[i]) + bf\n",
    "from sklearn.metrics import r2_score\n",
    "print(r2_score(y_test, y_pred))"
   ]
  },
  {
   "cell_type": "code",
   "execution_count": null,
   "id": "41ff9939-a6a5-4c02-956e-c109ab256bd5",
   "metadata": {},
   "outputs": [],
   "source": []
  }
 ],
 "metadata": {
  "kernelspec": {
   "display_name": "Python 3 (ipykernel)",
   "language": "python",
   "name": "python3"
  },
  "language_info": {
   "codemirror_mode": {
    "name": "ipython",
    "version": 3
   },
   "file_extension": ".py",
   "mimetype": "text/x-python",
   "name": "python",
   "nbconvert_exporter": "python",
   "pygments_lexer": "ipython3",
   "version": "3.10.0"
  }
 },
 "nbformat": 4,
 "nbformat_minor": 5
}
