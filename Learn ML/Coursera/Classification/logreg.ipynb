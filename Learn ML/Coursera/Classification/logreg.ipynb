{
 "cells": [
  {
   "cell_type": "code",
   "execution_count": 1,
   "id": "e3f5d9e4-c240-4324-a18c-6fbcc2347427",
   "metadata": {},
   "outputs": [],
   "source": [
    "import pandas as pd\n",
    "import numpy as np"
   ]
  },
  {
   "cell_type": "code",
   "execution_count": 2,
   "id": "8dfb4c78-026d-4577-83b0-5d8991f2a188",
   "metadata": {},
   "outputs": [],
   "source": [
    "df = pd.read_csv('Social_Network_Ads.csv')\n",
    "X = df.iloc[:, :-1].values\n",
    "y = df.iloc[:, -1].values"
   ]
  },
  {
   "cell_type": "code",
   "execution_count": 3,
   "id": "b9587693-67c7-42c3-bee0-e0839377d123",
   "metadata": {},
   "outputs": [],
   "source": [
    "def compute_gradient_logistic(X, y, w, b):\n",
    "    m, n = X.shape\n",
    "    dj_dw = np.zeros((n,))\n",
    "    dj_db = 0\n",
    "    for i in range(m):\n",
    "        z = np.dot(X[i], w) + b\n",
    "        fwb = 1/(1+np.exp(-z))\n",
    "        err = fwb - y[i]\n",
    "        for j in range(n):\n",
    "            dj_dw[j] = dj_dw[j] + err*X[i, j]\n",
    "        dj_db = dj_db  + err\n",
    "    \n",
    "    dj_db /= m\n",
    "    dj_dw /= m\n",
    "    return dj_dw, dj_db"
   ]
  },
  {
   "cell_type": "code",
   "execution_count": 4,
   "id": "d33250f7-63bf-418d-b821-93f715bbbbba",
   "metadata": {},
   "outputs": [],
   "source": [
    "def gradient_descent(x, y, wi, bi, niter, alp):\n",
    "    w = wi\n",
    "    b = bi\n",
    "    for i in range(niter):\n",
    "        dj_dw, dj_db = compute_gradient_logistic(x, y, w, b)\n",
    "        w -= alp*dj_dw\n",
    "        b -= alp*dj_db\n",
    "    return w, b"
   ]
  },
  {
   "cell_type": "code",
   "execution_count": 5,
   "id": "7c4142da-bbe7-4b2a-a9e9-dacb2e84d091",
   "metadata": {},
   "outputs": [],
   "source": [
    "def comp_cost(x, y, w, b):\n",
    "    m, n = x.shape\n",
    "    cost = 0.0\n",
    "    for i in range(m):\n",
    "        z = np.dot(w, x[i]) + b\n",
    "        fwb = 1/(1 + np.exp(-z))\n",
    "        cost +=  -y[i]*np.log(fwb) - (1-y[i])*np.log(1-fwb)\n",
    "    cost /= m\n",
    "    return cost"
   ]
  },
  {
   "cell_type": "code",
   "execution_count": 6,
   "id": "1a0ef80d-c736-41b6-a58c-04bbed0cb626",
   "metadata": {},
   "outputs": [],
   "source": [
    "import random\n",
    "rs = random.choice(range(1000))\n",
    "from sklearn.model_selection import train_test_split\n",
    "X_train, X_test, y_train, y_test = train_test_split(X, y, test_size = 0.25, random_state = rs)\n",
    "\n",
    "from sklearn.preprocessing import StandardScaler\n",
    "sc = StandardScaler()\n",
    "X_train = sc.fit_transform(X_train)\n",
    "X_test = sc.transform(X_test)"
   ]
  },
  {
   "cell_type": "code",
   "execution_count": 7,
   "id": "24232e6b-f29a-4e52-91af-ea3217d46a69",
   "metadata": {},
   "outputs": [],
   "source": [
    "m, n = X_train.shape\n",
    "w = np.zeros((n,))\n",
    "b = 0\n",
    "alp = 0.1\n",
    "niter = 10000\n",
    "wf, bf = gradient_descent(X_train, y_train, w, b, niter, alp)"
   ]
  },
  {
   "cell_type": "code",
   "execution_count": 8,
   "id": "9956f909-d433-4084-8e3d-b55347056864",
   "metadata": {},
   "outputs": [
    {
     "name": "stdout",
     "output_type": "stream",
     "text": [
      "[2.34300999 1.16329457] -1.1685912575968165 0.3636807571452822\n"
     ]
    }
   ],
   "source": [
    "print(wf, bf, comp_cost(X_train, y_train, wf, bf))"
   ]
  },
  {
   "cell_type": "code",
   "execution_count": 9,
   "id": "a7de805e-7453-4af8-bfbf-bb4d48d1635d",
   "metadata": {},
   "outputs": [],
   "source": [
    "y_pred = np.zeros_like(y_test)\n",
    "for i in range(len(y_pred)):\n",
    "    pred = 1/(1 + np.exp(-(np.dot(wf, X_test[i]) + b)))\n",
    "    if pred >= 0.5:\n",
    "        y_pred[i] = 1\n",
    "    else:\n",
    "        y_pred[i] = 0"
   ]
  },
  {
   "cell_type": "code",
   "execution_count": 10,
   "id": "0cbce7e1-8141-4161-9b11-246070efdedb",
   "metadata": {},
   "outputs": [
    {
     "name": "stdout",
     "output_type": "stream",
     "text": [
      "[[47 14]\n",
      " [ 2 37]]\n",
      "0.84\n",
      "493\n"
     ]
    }
   ],
   "source": [
    "from sklearn.metrics import confusion_matrix, accuracy_score\n",
    "cm = confusion_matrix(y_test, y_pred)\n",
    "print(cm)\n",
    "ac = accuracy_score(y_test, y_pred)\n",
    "print(ac)\n",
    "print(rs) #941"
   ]
  },
  {
   "cell_type": "code",
   "execution_count": null,
   "id": "a3e63c7c-b4d7-4447-be54-80f7b8adbe98",
   "metadata": {},
   "outputs": [],
   "source": []
  }
 ],
 "metadata": {
  "kernelspec": {
   "display_name": "Python 3 (ipykernel)",
   "language": "python",
   "name": "python3"
  },
  "language_info": {
   "codemirror_mode": {
    "name": "ipython",
    "version": 3
   },
   "file_extension": ".py",
   "mimetype": "text/x-python",
   "name": "python",
   "nbconvert_exporter": "python",
   "pygments_lexer": "ipython3",
   "version": "3.10.0"
  }
 },
 "nbformat": 4,
 "nbformat_minor": 5
}
