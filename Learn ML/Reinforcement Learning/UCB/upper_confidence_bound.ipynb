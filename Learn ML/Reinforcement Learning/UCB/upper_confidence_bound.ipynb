{
  "nbformat": 4,
  "nbformat_minor": 0,
  "metadata": {
    "colab": {
      "provenance": []
    },
    "kernelspec": {
      "name": "python3",
      "display_name": "Python 3"
    }
  },
  "cells": [
    {
      "cell_type": "markdown",
      "metadata": {
        "id": "QJdrJJQUv3-k"
      },
      "source": [
        "# Upper Confidence Bound (UCB)"
      ]
    },
    {
      "cell_type": "markdown",
      "metadata": {
        "id": "2XCjepjJwEv-"
      },
      "source": [
        "## Importing the libraries"
      ]
    },
    {
      "cell_type": "code",
      "source": [
        "import pandas as pd\n",
        "import numpy as np\n",
        "import matplotlib.pyplot as plt"
      ],
      "metadata": {
        "id": "REyxTK7XBlks"
      },
      "execution_count": 1,
      "outputs": []
    },
    {
      "cell_type": "markdown",
      "metadata": {
        "id": "npqlXjaNwYTv"
      },
      "source": [
        "## Importing the dataset"
      ]
    },
    {
      "cell_type": "code",
      "source": [
        "ds = pd.read_csv('Ads_CTR_Optimisation.csv')"
      ],
      "metadata": {
        "id": "g460bxjIBy0D"
      },
      "execution_count": 2,
      "outputs": []
    },
    {
      "cell_type": "markdown",
      "metadata": {
        "id": "PaSbots_wfoB"
      },
      "source": [
        "## Implementing UCB"
      ]
    },
    {
      "cell_type": "code",
      "source": [
        "import math\n",
        "N = 600 # Checking for min. no. of rounds to get the correct result, starting from 10k\n",
        "d = 10\n",
        "ad_selected = []\n",
        "nos = [0] * d # numbers_of_selections of ad i upto round n\n",
        "sor = [0] * d # sums_of_rewards of ad i upto round n\n",
        "total_reward = 0\n",
        "for n in range(N):\n",
        "  ad = 0\n",
        "  max_upper_bound = 0\n",
        "  for i in range(d):\n",
        "    if nos[i] > 0:\n",
        "      average_reward = sor[i]/nos[i]\n",
        "      delta_i = math.sqrt(3/2*math.log(n+1)/nos[i])\n",
        "      upper_bound = average_reward + delta_i\n",
        "    else:\n",
        "      upper_bound = 1e400\n",
        "\n",
        "    if(upper_bound > max_upper_bound):\n",
        "      max_upper_bound = upper_bound\n",
        "      ad = i\n",
        "\n",
        "  ad_selected.append(ad)\n",
        "  nos[ad] += 1\n",
        "  reward = ds.values[n, ad]\n",
        "  sor[ad] = sor[ad] + reward\n",
        "  total_reward = total_reward + reward\n",
        ""
      ],
      "metadata": {
        "id": "Fql6m5o7FClf"
      },
      "execution_count": 3,
      "outputs": []
    },
    {
      "cell_type": "markdown",
      "metadata": {
        "id": "AXftWcjDwsYj"
      },
      "source": [
        "## Visualising the results"
      ]
    },
    {
      "cell_type": "code",
      "source": [
        "plt.hist(ads_selected)\n",
        "plt.title(\"Histogram of ads selection\")\n",
        "plt.xlabel('Ads')\n",
        "plt.ylabel('No. of times the ad was selected')\n",
        "plt.show()"
      ],
      "metadata": {
        "colab": {
          "base_uri": "https://localhost:8080/",
          "height": 472
        },
        "id": "eQq4DyeMaFnr",
        "outputId": "4a3df527-ffe5-4ff9-bddb-c9a8a19494dd"
      },
      "execution_count": 4,
      "outputs": [
        {
          "output_type": "display_data",
          "data": {
            "text/plain": [
              "<Figure size 640x480 with 1 Axes>"
            ],
            "image/png": "[encoded data removed]"
          },
          "metadata": {}
        }
      ]
    },
    {
      "cell_type": "code",
      "source": [],
      "metadata": {
        "id": "sxOyGcToa3Mr"
      },
      "execution_count": 4,
      "outputs": []
    }
  ]
}