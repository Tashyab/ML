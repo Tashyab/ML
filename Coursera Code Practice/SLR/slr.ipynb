{
 "cells": [
  {
   "cell_type": "code",
   "execution_count": 1,
   "id": "6babfcec-38df-4793-a16a-38755ce7061e",
   "metadata": {},
   "outputs": [],
   "source": [
    "import pandas as pd\n",
    "import numpy as np"
   ]
  },
  {
   "cell_type": "code",
   "execution_count": 2,
   "id": "9841ad28-19ca-4cca-9373-c9fb65d5f639",
   "metadata": {},
   "outputs": [],
   "source": [
    "ds = pd.read_csv('Salary_Data.csv')\n",
    "X_train = ds.iloc[:, 0].values\n",
    "y_train = ds.iloc[:, 1].values"
   ]
  },
  {
   "cell_type": "code",
   "execution_count": 3,
   "id": "fec0da82-e6bb-4f1c-8e67-90735dcf6323",
   "metadata": {},
   "outputs": [
    {
     "data": {
      "text/plain": [
       "array([ 1.1,  1.3,  1.5,  2. ,  2.2,  2.9,  3. ,  3.2,  3.2,  3.7,  3.9,\n",
       "        4. ,  4. ,  4.1,  4.5,  4.9,  5.1,  5.3,  5.9,  6. ,  6.8,  7.1,\n",
       "        7.9,  8.2,  8.7,  9. ,  9.5,  9.6, 10.3, 10.5])"
      ]
     },
     "execution_count": 3,
     "metadata": {},
     "output_type": "execute_result"
    }
   ],
   "source": [
    "X_train"
   ]
  },
  {
   "cell_type": "code",
   "execution_count": 4,
   "id": "4ccbb235-ec98-4248-b0bf-ce0eb7d56460",
   "metadata": {},
   "outputs": [
    {
     "data": {
      "text/plain": [
       "array([ 39343.,  46205.,  37731.,  43525.,  39891.,  56642.,  60150.,\n",
       "        54445.,  64445.,  57189.,  63218.,  55794.,  56957.,  57081.,\n",
       "        61111.,  67938.,  66029.,  83088.,  81363.,  93940.,  91738.,\n",
       "        98273., 101302., 113812., 109431., 105582., 116969., 112635.,\n",
       "       122391., 121872.])"
      ]
     },
     "execution_count": 4,
     "metadata": {},
     "output_type": "execute_result"
    }
   ],
   "source": [
    "y_train"
   ]
  },
  {
   "cell_type": "code",
   "execution_count": 26,
   "id": "129c121e-daee-4b24-b7e8-dce67cb298f5",
   "metadata": {},
   "outputs": [],
   "source": [
    "def comp_cost(x, y, w, b):\n",
    "    m = len(x)\n",
    "    cost = 0\n",
    "    for i in range(m):\n",
    "        f_wb = w*x[i] + b\n",
    "        cost += (f_wb - y[i])**2\n",
    "    cost = cost/(2*m)\n",
    "    return cost"
   ]
  },
  {
   "cell_type": "code",
   "execution_count": 17,
   "id": "33097f5b-fc1b-42ab-9caa-3fd5ed295a23",
   "metadata": {},
   "outputs": [],
   "source": [
    "def comp_grad(x, y, w, b):\n",
    "    m = len(x)\n",
    "    dj_dw = 0\n",
    "    dj_db = 0\n",
    "    for i in range(m):\n",
    "        f_wb = w*x[i] + b\n",
    "        dj_dw += (f_wb - y[i])*x[i]\n",
    "        dj_db += (f_wb - y[i])\n",
    "    dj_dw /= m\n",
    "    dj_db /= m\n",
    "    return dj_dw, dj_db"
   ]
  },
  {
   "cell_type": "code",
   "execution_count": 27,
   "id": "7e5598c7-b52e-474e-82f0-6d8ed802416e",
   "metadata": {},
   "outputs": [],
   "source": [
    "def grad_des(x, y, w_in, b_in, alpha, it):\n",
    "    w = w_in\n",
    "    b = b_in\n",
    "    wb_i = []\n",
    "    cost_i = []\n",
    "    for i in range(it):\n",
    "        dj_dw, dj_db = comp_grad(x, y, w, b)\n",
    "        w = w - alpha*dj_dw\n",
    "        b = b - alpha*dj_db\n",
    "        wb_i.append([w, b])\n",
    "        cost_i.append(comp_cost(x, y, w, b))\n",
    "    return w, b, wb_i, cost_i"
   ]
  },
  {
   "cell_type": "code",
   "execution_count": 39,
   "id": "1f9253a9-a7f4-41a3-880a-b268f2c3709a",
   "metadata": {},
   "outputs": [],
   "source": [
    "w_init = 0\n",
    "b_init = 0\n",
    "it = 10000\n",
    "alpha = 0.01\n",
    "w_final, b_final, wb_i, cost_i = grad_des(X_train, y_train, w_init, b_init, alpha, it)"
   ]
  },
  {
   "cell_type": "code",
   "execution_count": 40,
   "id": "df679e30-a4ad-4547-8a7f-a8663e676294",
   "metadata": {},
   "outputs": [
    {
     "name": "stdout",
     "output_type": "stream",
     "text": [
      "9449.962323709777 25792.20018347487\n",
      "15635475.86114048\n"
     ]
    }
   ],
   "source": [
    "print(w_final, b_final) # 9332.94473, 25609.89799\n",
    "print(comp_cost(X_train, y_train, w_final, b_final))\n",
    "m = len(X_train)\n",
    "y_pred = np.zeros(m)\n",
    "for i in range(m):\n",
    "    y_pred[i] = w_final*X_train[i] + b_final\n",
    "    "
   ]
  },
  {
   "cell_type": "code",
   "execution_count": 41,
   "id": "67703e07-3a35-4c79-8f16-babbd32ae8ae",
   "metadata": {},
   "outputs": [
    {
     "data": {
      "image/png": "[encoded data removed]",
      "text/plain": [
       "<Figure size 432x288 with 1 Axes>"
      ]
     },
     "metadata": {
      "needs_background": "light"
     },
     "output_type": "display_data"
    }
   ],
   "source": [
    "import matplotlib.pyplot as plt\n",
    "plt.scatter(X_train, y_train, color = 'red')\n",
    "plt.plot(X_train, y_pred, color = 'blue')\n",
    "plt.title(\"Salary VS Experience\")\n",
    "plt.xlabel(\"Years of Experience\")\n",
    "plt.ylabel(\"Salary\")\n",
    "plt.show()"
   ]
  },
  {
   "cell_type": "code",
   "execution_count": null,
   "id": "14bcafcf-8879-46b6-a5f5-a853fda257c3",
   "metadata": {},
   "outputs": [],
   "source": []
  }
 ],
 "metadata": {
  "kernelspec": {
   "display_name": "Python 3 (ipykernel)",
   "language": "python",
   "name": "python3"
  },
  "language_info": {
   "codemirror_mode": {
    "name": "ipython",
    "version": 3
   },
   "file_extension": ".py",
   "mimetype": "text/x-python",
   "name": "python",
   "nbconvert_exporter": "python",
   "pygments_lexer": "ipython3",
   "version": "3.10.0"
  }
 },
 "nbformat": 4,
 "nbformat_minor": 5
}
