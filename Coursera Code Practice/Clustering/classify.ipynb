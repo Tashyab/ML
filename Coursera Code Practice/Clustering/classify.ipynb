{
 "cells": [
  {
   "cell_type": "code",
   "execution_count": 1,
   "id": "cac0e7f7-2a2b-4d25-bc6a-0ee128e115d2",
   "metadata": {},
   "outputs": [],
   "source": [
    "import pandas as pd\n",
    "import numpy as np\n",
    "import matplotlib.pyplot as plt"
   ]
  },
  {
   "cell_type": "code",
   "execution_count": 2,
   "id": "01a9872b-9db1-42a0-ac10-001da52f20d9",
   "metadata": {},
   "outputs": [],
   "source": [
    "df = pd.read_csv(\"Mall_Customers.csv\")\n",
    "X = df.iloc[:, [3, 4]].values"
   ]
  },
  {
   "cell_type": "code",
   "execution_count": 3,
   "id": "aceb6087-00d2-45ad-974c-dd57caf2dd08",
   "metadata": {},
   "outputs": [],
   "source": [
    "def init_centroids(npx, centroids):\n",
    "    cf = []\n",
    "    maxd = 0\n",
    "    for ix in npx:\n",
    "        dist = list(np.sqrt(np.sum(np.square(ix-centroids[j]))) for j in range(len(centroids)))\n",
    "        d = sum(dist)\n",
    "        if(d>= maxd): \n",
    "            maxd = d\n",
    "            cf = ix\n",
    "    return cf"
   ]
  },
  {
   "cell_type": "code",
   "execution_count": 4,
   "id": "4c32b16e-abcd-427e-82e8-70e7c67150f4",
   "metadata": {},
   "outputs": [],
   "source": [
    "def find_closest_centroids(X, centroids):\n",
    "    idx = np.zeros((len(X),), dtype = int)\n",
    "    for i in range(len(idx)):\n",
    "        d = []\n",
    "        for j in range(len(centroids)):\n",
    "            dj = np.sqrt(sum(np.square(X[i] - centroids[j])))\n",
    "            d.append(dj)\n",
    "        idx[i] = np.argmin(d)\n",
    "    return idx"
   ]
  },
  {
   "cell_type": "code",
   "execution_count": 5,
   "id": "479eb84a-4b5d-4d89-baa6-1a17a3fecac5",
   "metadata": {},
   "outputs": [],
   "source": [
    "def compute_centroids(X, idx, K):\n",
    "    m, n = X.shape\n",
    "    centroids = np.zeros((K,n))\n",
    "    for i in range(K):\n",
    "        points = X[idx == i]\n",
    "        centroids[i] = np.mean(points, axis = 0)\n",
    "    return centroids"
   ]
  },
  {
   "cell_type": "code",
   "execution_count": 6,
   "id": "fe30df7a-b5e4-4bda-955c-8bd085951f4a",
   "metadata": {},
   "outputs": [
    {
     "name": "stdout",
     "output_type": "stream",
     "text": [
      "[array([15, 39], dtype=int64), array([137,  83], dtype=int64), array([137,  18], dtype=int64), array([19, 99], dtype=int64), array([19,  3], dtype=int64)]\n",
      "[4 3 4 3 4 3 4 3 4 3 4 3 4 3 4 3 4 3 4 3 4 3 4 3 4 3 4 3 4 3 4 3 4 3 4 3 4\n",
      " 3 4 3 4 3 4 0 4 3 0 0 0 0 0 0 0 0 0 0 0 0 0 0 0 0 0 0 0 0 0 0 0 0 0 0 0 0\n",
      " 0 0 0 0 0 0 0 0 0 0 0 0 0 0 0 0 0 0 0 0 0 0 0 0 0 0 0 0 0 0 0 0 0 0 0 0 0\n",
      " 0 0 0 0 0 0 0 0 0 0 0 0 1 2 1 0 1 2 1 2 1 0 1 2 1 2 1 2 1 2 1 0 1 2 1 2 1\n",
      " 2 1 2 1 2 1 2 1 2 1 2 1 2 1 2 1 2 1 2 1 2 1 2 1 2 1 2 1 2 1 2 1 2 1 2 1 2\n",
      " 1 2 1 2 1 2 1 2 1 2 1 2 1 2 1]\n",
      "[[55.2962963  49.51851852]\n",
      " [86.53846154 82.12820513]\n",
      " [88.2        17.11428571]\n",
      " [25.72727273 79.36363636]\n",
      " [26.30434783 20.91304348]]\n"
     ]
    }
   ],
   "source": [
    "niter = 100\n",
    "npx = np.array(X)\n",
    "centroids = []\n",
    "centroids.append(X[0])\n",
    "for i in range(4):\n",
    "    centroids.append(init_centroids(npx, centroids))\n",
    "print(centroids)\n",
    "for i in range(niter):\n",
    "    idx = find_closest_centroids(X, centroids)\n",
    "    centroids = compute_centroids(X, idx, len(centroids))\n",
    "print(idx)\n",
    "print(centroids)\n",
    "y_kmeans = idx"
   ]
  },
  {
   "cell_type": "code",
   "execution_count": 7,
   "id": "effd3a21-fb83-4249-91db-c01947a18afc",
   "metadata": {},
   "outputs": [
    {
     "data": {
      "image/png": "[encoded data removed]",
      "text/plain": [
       "<Figure size 432x288 with 1 Axes>"
      ]
     },
     "metadata": {
      "needs_background": "light"
     },
     "output_type": "display_data"
    }
   ],
   "source": [
    "plt.scatter(X[y_kmeans == 0, 0], X[y_kmeans == 0, 1], s = 100, color = 'red')\n",
    "plt.scatter(X[y_kmeans == 1, 0], X[y_kmeans == 1, 1], s = 100, color = 'blue')\n",
    "plt.scatter(X[y_kmeans == 2, 0], X[y_kmeans == 2, 1], s = 100, color = 'green')\n",
    "plt.scatter(X[y_kmeans == 3, 0], X[y_kmeans == 3, 1], s = 100, color = 'yellow')\n",
    "plt.scatter(X[y_kmeans == 4, 0], X[y_kmeans == 4, 1], s = 100, color = 'magenta')\n",
    "plt.scatter(centroids[:, 0], centroids[:, 1], s = 100, c = 'black')\n",
    "plt.title(\"Cluster of Centers\")\n",
    "plt.xlabel(\"Annual Income {k$}\")\n",
    "plt.ylabel(\"Spending Score {1-100}\")\n",
    "plt.show()"
   ]
  },
  {
   "cell_type": "code",
   "execution_count": null,
   "id": "0c9e17f8-c6a1-40b6-a9af-29791fe96bfc",
   "metadata": {},
   "outputs": [],
   "source": []
  }
 ],
 "metadata": {
  "kernelspec": {
   "display_name": "Python 3 (ipykernel)",
   "language": "python",
   "name": "python3"
  },
  "language_info": {
   "codemirror_mode": {
    "name": "ipython",
    "version": 3
   },
   "file_extension": ".py",
   "mimetype": "text/x-python",
   "name": "python",
   "nbconvert_exporter": "python",
   "pygments_lexer": "ipython3",
   "version": "3.10.0"
  }
 },
 "nbformat": 4,
 "nbformat_minor": 5
}
